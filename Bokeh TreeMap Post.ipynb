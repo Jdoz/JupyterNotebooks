{
 "cells": [
  {
   "cell_type": "code",
   "execution_count": 1,
   "metadata": {
    "ExecuteTime": {
     "end_time": "2017-11-29T18:00:35.305019Z",
     "start_time": "2017-11-29T18:00:33.462946Z"
    }
   },
   "outputs": [],
   "source": [
    "import pandas as pd\n",
    "import numpy as np\n",
    "\n",
    "np.set_printoptions(precision=3)\n",
    "np.set_printoptions(suppress=True)\n",
    "\n",
    "#import missingno as msno\n",
    "import matplotlib.pyplot as plt\n",
    "import seaborn as sns\n",
    "from __future__ import division\n",
    "from numpy.random import seed\n",
    "\n",
    "pd.options.display.float_format = '{:,.2f}'.format\n",
    "from IPython.core.interactiveshell import InteractiveShell\n",
    "InteractiveShell.ast_node_interactivity = \"all\"\n",
    "sns.set_style(style = 'whitegrid')\n",
    "sns.set_context(context= 'notebook')\n",
    "flatui = ['#1ABC9C','#16A085','#2ECC71','#27AE60','#3498DB','#2980B9','#9B59B6','#8E44AD',\n",
    "          '#34495E','#2C3E50','#F1C40F','#F39C12','#E67E22','#D35400','#E74C3C','#C0392B',\n",
    "          '#ECF0F1','#BDC3C7','#95A5A6','#7F8C8D']\n",
    "sns.set_palette(flatui)\n",
    "%config InlineBackend.figure_format = 'svg'\n",
    "%matplotlib inline\n",
    "from bokeh.io import output_notebook, show\n",
    "\n",
    "from bokeh.plotting import figure, output_file, show, save\n",
    "from bokeh.models import ColumnDataSource\n",
    "from bokeh.layouts import column, row\n",
    "\n",
    "from bokeh.models import LabelSet, Label, FactorRange\n",
    "from bokeh.models.glyphs import VBar\n",
    "from bokeh.models import (\n",
    "    ColumnDataSource,\n",
    "    HoverTool,\n",
    "    LinearColorMapper,\n",
    "    BasicTicker,\n",
    "    PrintfTickFormatter,\n",
    "    ColorBar,\n",
    "    Div\n",
    ")\n",
    "from bokeh.models import Text,Label, Range1d\n",
    "from bokeh.palettes import brewer\n",
    "from bokeh.models.widgets import Panel, Tabs\n",
    "from bokeh.models import NumeralTickFormatter\n",
    "from bokeh.layouts import gridplot\n",
    "from bokeh.palettes import Category20_20\n",
    "from bokeh.core.properties import value\n",
    "from bokeh.transform import CategoricalColorMapper"
   ]
  },
  {
   "cell_type": "code",
   "execution_count": 2,
   "metadata": {
    "ExecuteTime": {
     "end_time": "2017-11-29T18:00:35.323097Z",
     "start_time": "2017-11-29T18:00:35.306834Z"
    }
   },
   "outputs": [],
   "source": [
    "from bokeh.resources import CDN\n",
    "from bokeh.embed import components"
   ]
  },
  {
   "cell_type": "code",
   "execution_count": 6,
   "metadata": {
    "ExecuteTime": {
     "end_time": "2017-11-29T18:01:30.844208Z",
     "start_time": "2017-11-29T18:01:30.832611Z"
    }
   },
   "outputs": [
    {
     "data": {
      "text/html": [
       "\n",
       "    <div class=\"bk-root\">\n",
       "        <a href=\"https://bokeh.pydata.org\" target=\"_blank\" class=\"bk-logo bk-logo-small bk-logo-notebook\"></a>\n",
       "        <span id=\"0198b7f8-7f54-43dc-aeeb-299b9f3a7243\">Loading BokehJS ...</span>\n",
       "    </div>"
      ]
     },
     "metadata": {},
     "output_type": "display_data"
    },
    {
     "data": {
      "application/javascript": [
       "\n",
       "(function(root) {\n",
       "  function now() {\n",
       "    return new Date();\n",
       "  }\n",
       "\n",
       "  var force = true;\n",
       "\n",
       "  if (typeof (root._bokeh_onload_callbacks) === \"undefined\" || force === true) {\n",
       "    root._bokeh_onload_callbacks = [];\n",
       "    root._bokeh_is_loading = undefined;\n",
       "  }\n",
       "\n",
       "  var JS_MIME_TYPE = 'application/javascript';\n",
       "  var HTML_MIME_TYPE = 'text/html';\n",
       "  var EXEC_MIME_TYPE = 'application/vnd.bokehjs_exec.v0+json';\n",
       "  var CLASS_NAME = 'output_bokeh rendered_html';\n",
       "\n",
       "  /**\n",
       "   * Render data to the DOM node\n",
       "   */\n",
       "  function render(props, node) {\n",
       "    var script = document.createElement(\"script\");\n",
       "    node.appendChild(script);\n",
       "  }\n",
       "\n",
       "  /**\n",
       "   * Handle when an output is cleared or removed\n",
       "   */\n",
       "  function handleClearOutput(event, handle) {\n",
       "    var cell = handle.cell;\n",
       "\n",
       "    var id = cell.output_area._bokeh_element_id;\n",
       "    var server_id = cell.output_area._bokeh_server_id;\n",
       "    // Clean up Bokeh references\n",
       "    if (id !== undefined) {\n",
       "      Bokeh.index[id].model.document.clear();\n",
       "      delete Bokeh.index[id];\n",
       "    }\n",
       "\n",
       "    if (server_id !== undefined) {\n",
       "      // Clean up Bokeh references\n",
       "      var cmd = \"from bokeh.io.state import curstate; print(curstate().uuid_to_server['\" + server_id + \"'].get_sessions()[0].document.roots[0]._id)\";\n",
       "      cell.notebook.kernel.execute(cmd, {\n",
       "        iopub: {\n",
       "          output: function(msg) {\n",
       "            var element_id = msg.content.text.trim();\n",
       "            Bokeh.index[element_id].model.document.clear();\n",
       "            delete Bokeh.index[element_id];\n",
       "          }\n",
       "        }\n",
       "      });\n",
       "      // Destroy server and session\n",
       "      var cmd = \"import bokeh.io.notebook as ion; ion.destroy_server('\" + server_id + \"')\";\n",
       "      cell.notebook.kernel.execute(cmd);\n",
       "    }\n",
       "  }\n",
       "\n",
       "  /**\n",
       "   * Handle when a new output is added\n",
       "   */\n",
       "  function handleAddOutput(event, handle) {\n",
       "    var output_area = handle.output_area;\n",
       "    var output = handle.output;\n",
       "\n",
       "    // limit handleAddOutput to display_data with EXEC_MIME_TYPE content only\n",
       "    if ((output.output_type != \"display_data\") || (!output.data.hasOwnProperty(EXEC_MIME_TYPE))) {\n",
       "      return\n",
       "    }\n",
       "\n",
       "    var toinsert = output_area.element.find(\".\" + CLASS_NAME.split(' ')[0]);\n",
       "\n",
       "    if (output.metadata[EXEC_MIME_TYPE][\"id\"] !== undefined) {\n",
       "      toinsert[toinsert.length - 1].firstChild.textContent = output.data[JS_MIME_TYPE];\n",
       "      // store reference to embed id on output_area\n",
       "      output_area._bokeh_element_id = output.metadata[EXEC_MIME_TYPE][\"id\"];\n",
       "    }\n",
       "    if (output.metadata[EXEC_MIME_TYPE][\"server_id\"] !== undefined) {\n",
       "      var bk_div = document.createElement(\"div\");\n",
       "      bk_div.innerHTML = output.data[HTML_MIME_TYPE];\n",
       "      var script_attrs = bk_div.children[0].attributes;\n",
       "      for (var i = 0; i < script_attrs.length; i++) {\n",
       "        toinsert[toinsert.length - 1].firstChild.setAttribute(script_attrs[i].name, script_attrs[i].value);\n",
       "      }\n",
       "      // store reference to server id on output_area\n",
       "      output_area._bokeh_server_id = output.metadata[EXEC_MIME_TYPE][\"server_id\"];\n",
       "    }\n",
       "  }\n",
       "\n",
       "  function register_renderer(events, OutputArea) {\n",
       "\n",
       "    function append_mime(data, metadata, element) {\n",
       "      // create a DOM node to render to\n",
       "      var toinsert = this.create_output_subarea(\n",
       "        metadata,\n",
       "        CLASS_NAME,\n",
       "        EXEC_MIME_TYPE\n",
       "      );\n",
       "      this.keyboard_manager.register_events(toinsert);\n",
       "      // Render to node\n",
       "      var props = {data: data, metadata: metadata[EXEC_MIME_TYPE]};\n",
       "      render(props, toinsert[toinsert.length - 1]);\n",
       "      element.append(toinsert);\n",
       "      return toinsert\n",
       "    }\n",
       "\n",
       "    /* Handle when an output is cleared or removed */\n",
       "    events.on('clear_output.CodeCell', handleClearOutput);\n",
       "    events.on('delete.Cell', handleClearOutput);\n",
       "\n",
       "    /* Handle when a new output is added */\n",
       "    events.on('output_added.OutputArea', handleAddOutput);\n",
       "\n",
       "    /**\n",
       "     * Register the mime type and append_mime function with output_area\n",
       "     */\n",
       "    OutputArea.prototype.register_mime_type(EXEC_MIME_TYPE, append_mime, {\n",
       "      /* Is output safe? */\n",
       "      safe: true,\n",
       "      /* Index of renderer in `output_area.display_order` */\n",
       "      index: 0\n",
       "    });\n",
       "  }\n",
       "\n",
       "  // register the mime type if in Jupyter Notebook environment and previously unregistered\n",
       "  if (root.Jupyter !== undefined) {\n",
       "    var events = require('base/js/events');\n",
       "    var OutputArea = require('notebook/js/outputarea').OutputArea;\n",
       "\n",
       "    if (OutputArea.prototype.mime_types().indexOf(EXEC_MIME_TYPE) == -1) {\n",
       "      register_renderer(events, OutputArea);\n",
       "    }\n",
       "  }\n",
       "\n",
       "  \n",
       "  if (typeof (root._bokeh_timeout) === \"undefined\" || force === true) {\n",
       "    root._bokeh_timeout = Date.now() + 5000;\n",
       "    root._bokeh_failed_load = false;\n",
       "  }\n",
       "\n",
       "  var NB_LOAD_WARNING = {'data': {'text/html':\n",
       "     \"<div style='background-color: #fdd'>\\n\"+\n",
       "     \"<p>\\n\"+\n",
       "     \"BokehJS does not appear to have successfully loaded. If loading BokehJS from CDN, this \\n\"+\n",
       "     \"may be due to a slow or bad network connection. Possible fixes:\\n\"+\n",
       "     \"</p>\\n\"+\n",
       "     \"<ul>\\n\"+\n",
       "     \"<li>re-rerun `output_notebook()` to attempt to load from CDN again, or</li>\\n\"+\n",
       "     \"<li>use INLINE resources instead, as so:</li>\\n\"+\n",
       "     \"</ul>\\n\"+\n",
       "     \"<code>\\n\"+\n",
       "     \"from bokeh.resources import INLINE\\n\"+\n",
       "     \"output_notebook(resources=INLINE)\\n\"+\n",
       "     \"</code>\\n\"+\n",
       "     \"</div>\"}};\n",
       "\n",
       "  function display_loaded() {\n",
       "    var el = document.getElementById(\"0198b7f8-7f54-43dc-aeeb-299b9f3a7243\");\n",
       "    if (el != null) {\n",
       "      el.textContent = \"BokehJS is loading...\";\n",
       "    }\n",
       "    if (root.Bokeh !== undefined) {\n",
       "      if (el != null) {\n",
       "        el.textContent = \"BokehJS \" + root.Bokeh.version + \" successfully loaded.\";\n",
       "      }\n",
       "    } else if (Date.now() < root._bokeh_timeout) {\n",
       "      setTimeout(display_loaded, 100)\n",
       "    }\n",
       "  }\n",
       "\n",
       "\n",
       "  function run_callbacks() {\n",
       "    try {\n",
       "      root._bokeh_onload_callbacks.forEach(function(callback) { callback() });\n",
       "    }\n",
       "    finally {\n",
       "      delete root._bokeh_onload_callbacks\n",
       "    }\n",
       "    console.info(\"Bokeh: all callbacks have finished\");\n",
       "  }\n",
       "\n",
       "  function load_libs(js_urls, callback) {\n",
       "    root._bokeh_onload_callbacks.push(callback);\n",
       "    if (root._bokeh_is_loading > 0) {\n",
       "      console.log(\"Bokeh: BokehJS is being loaded, scheduling callback at\", now());\n",
       "      return null;\n",
       "    }\n",
       "    if (js_urls == null || js_urls.length === 0) {\n",
       "      run_callbacks();\n",
       "      return null;\n",
       "    }\n",
       "    console.log(\"Bokeh: BokehJS not loaded, scheduling load and callback at\", now());\n",
       "    root._bokeh_is_loading = js_urls.length;\n",
       "    for (var i = 0; i < js_urls.length; i++) {\n",
       "      var url = js_urls[i];\n",
       "      var s = document.createElement('script');\n",
       "      s.src = url;\n",
       "      s.async = false;\n",
       "      s.onreadystatechange = s.onload = function() {\n",
       "        root._bokeh_is_loading--;\n",
       "        if (root._bokeh_is_loading === 0) {\n",
       "          console.log(\"Bokeh: all BokehJS libraries loaded\");\n",
       "          run_callbacks()\n",
       "        }\n",
       "      };\n",
       "      s.onerror = function() {\n",
       "        console.warn(\"failed to load library \" + url);\n",
       "      };\n",
       "      console.log(\"Bokeh: injecting script tag for BokehJS library: \", url);\n",
       "      document.getElementsByTagName(\"head\")[0].appendChild(s);\n",
       "    }\n",
       "  };var element = document.getElementById(\"0198b7f8-7f54-43dc-aeeb-299b9f3a7243\");\n",
       "  if (element == null) {\n",
       "    console.log(\"Bokeh: ERROR: autoload.js configured with elementid '0198b7f8-7f54-43dc-aeeb-299b9f3a7243' but no matching script tag was found. \")\n",
       "    return false;\n",
       "  }\n",
       "\n",
       "  var js_urls = [\"https://cdn.pydata.org/bokeh/release/bokeh-0.12.16.min.js\", \"https://cdn.pydata.org/bokeh/release/bokeh-widgets-0.12.16.min.js\", \"https://cdn.pydata.org/bokeh/release/bokeh-tables-0.12.16.min.js\", \"https://cdn.pydata.org/bokeh/release/bokeh-gl-0.12.16.min.js\"];\n",
       "\n",
       "  var inline_js = [\n",
       "    function(Bokeh) {\n",
       "      Bokeh.set_log_level(\"info\");\n",
       "    },\n",
       "    \n",
       "    function(Bokeh) {\n",
       "      \n",
       "    },\n",
       "    function(Bokeh) {\n",
       "      console.log(\"Bokeh: injecting CSS: https://cdn.pydata.org/bokeh/release/bokeh-0.12.16.min.css\");\n",
       "      Bokeh.embed.inject_css(\"https://cdn.pydata.org/bokeh/release/bokeh-0.12.16.min.css\");\n",
       "      console.log(\"Bokeh: injecting CSS: https://cdn.pydata.org/bokeh/release/bokeh-widgets-0.12.16.min.css\");\n",
       "      Bokeh.embed.inject_css(\"https://cdn.pydata.org/bokeh/release/bokeh-widgets-0.12.16.min.css\");\n",
       "      console.log(\"Bokeh: injecting CSS: https://cdn.pydata.org/bokeh/release/bokeh-tables-0.12.16.min.css\");\n",
       "      Bokeh.embed.inject_css(\"https://cdn.pydata.org/bokeh/release/bokeh-tables-0.12.16.min.css\");\n",
       "    }\n",
       "  ];\n",
       "\n",
       "  function run_inline_js() {\n",
       "    \n",
       "    if ((root.Bokeh !== undefined) || (force === true)) {\n",
       "      for (var i = 0; i < inline_js.length; i++) {\n",
       "        inline_js[i].call(root, root.Bokeh);\n",
       "      }if (force === true) {\n",
       "        display_loaded();\n",
       "      }} else if (Date.now() < root._bokeh_timeout) {\n",
       "      setTimeout(run_inline_js, 100);\n",
       "    } else if (!root._bokeh_failed_load) {\n",
       "      console.log(\"Bokeh: BokehJS failed to load within specified timeout.\");\n",
       "      root._bokeh_failed_load = true;\n",
       "    } else if (force !== true) {\n",
       "      var cell = $(document.getElementById(\"0198b7f8-7f54-43dc-aeeb-299b9f3a7243\")).parents('.cell').data().cell;\n",
       "      cell.output_area.append_execute_result(NB_LOAD_WARNING)\n",
       "    }\n",
       "\n",
       "  }\n",
       "\n",
       "  if (root._bokeh_is_loading === 0) {\n",
       "    console.log(\"Bokeh: BokehJS loaded, going straight to plotting\");\n",
       "    run_inline_js();\n",
       "  } else {\n",
       "    load_libs(js_urls, function() {\n",
       "      console.log(\"Bokeh: BokehJS plotting callback run at\", now());\n",
       "      run_inline_js();\n",
       "    });\n",
       "  }\n",
       "}(window));"
      ],
      "application/vnd.bokehjs_load.v0+json": "\n(function(root) {\n  function now() {\n    return new Date();\n  }\n\n  var force = true;\n\n  if (typeof (root._bokeh_onload_callbacks) === \"undefined\" || force === true) {\n    root._bokeh_onload_callbacks = [];\n    root._bokeh_is_loading = undefined;\n  }\n\n  \n\n  \n  if (typeof (root._bokeh_timeout) === \"undefined\" || force === true) {\n    root._bokeh_timeout = Date.now() + 5000;\n    root._bokeh_failed_load = false;\n  }\n\n  var NB_LOAD_WARNING = {'data': {'text/html':\n     \"<div style='background-color: #fdd'>\\n\"+\n     \"<p>\\n\"+\n     \"BokehJS does not appear to have successfully loaded. If loading BokehJS from CDN, this \\n\"+\n     \"may be due to a slow or bad network connection. Possible fixes:\\n\"+\n     \"</p>\\n\"+\n     \"<ul>\\n\"+\n     \"<li>re-rerun `output_notebook()` to attempt to load from CDN again, or</li>\\n\"+\n     \"<li>use INLINE resources instead, as so:</li>\\n\"+\n     \"</ul>\\n\"+\n     \"<code>\\n\"+\n     \"from bokeh.resources import INLINE\\n\"+\n     \"output_notebook(resources=INLINE)\\n\"+\n     \"</code>\\n\"+\n     \"</div>\"}};\n\n  function display_loaded() {\n    var el = document.getElementById(\"0198b7f8-7f54-43dc-aeeb-299b9f3a7243\");\n    if (el != null) {\n      el.textContent = \"BokehJS is loading...\";\n    }\n    if (root.Bokeh !== undefined) {\n      if (el != null) {\n        el.textContent = \"BokehJS \" + root.Bokeh.version + \" successfully loaded.\";\n      }\n    } else if (Date.now() < root._bokeh_timeout) {\n      setTimeout(display_loaded, 100)\n    }\n  }\n\n\n  function run_callbacks() {\n    try {\n      root._bokeh_onload_callbacks.forEach(function(callback) { callback() });\n    }\n    finally {\n      delete root._bokeh_onload_callbacks\n    }\n    console.info(\"Bokeh: all callbacks have finished\");\n  }\n\n  function load_libs(js_urls, callback) {\n    root._bokeh_onload_callbacks.push(callback);\n    if (root._bokeh_is_loading > 0) {\n      console.log(\"Bokeh: BokehJS is being loaded, scheduling callback at\", now());\n      return null;\n    }\n    if (js_urls == null || js_urls.length === 0) {\n      run_callbacks();\n      return null;\n    }\n    console.log(\"Bokeh: BokehJS not loaded, scheduling load and callback at\", now());\n    root._bokeh_is_loading = js_urls.length;\n    for (var i = 0; i < js_urls.length; i++) {\n      var url = js_urls[i];\n      var s = document.createElement('script');\n      s.src = url;\n      s.async = false;\n      s.onreadystatechange = s.onload = function() {\n        root._bokeh_is_loading--;\n        if (root._bokeh_is_loading === 0) {\n          console.log(\"Bokeh: all BokehJS libraries loaded\");\n          run_callbacks()\n        }\n      };\n      s.onerror = function() {\n        console.warn(\"failed to load library \" + url);\n      };\n      console.log(\"Bokeh: injecting script tag for BokehJS library: \", url);\n      document.getElementsByTagName(\"head\")[0].appendChild(s);\n    }\n  };var element = document.getElementById(\"0198b7f8-7f54-43dc-aeeb-299b9f3a7243\");\n  if (element == null) {\n    console.log(\"Bokeh: ERROR: autoload.js configured with elementid '0198b7f8-7f54-43dc-aeeb-299b9f3a7243' but no matching script tag was found. \")\n    return false;\n  }\n\n  var js_urls = [\"https://cdn.pydata.org/bokeh/release/bokeh-0.12.16.min.js\", \"https://cdn.pydata.org/bokeh/release/bokeh-widgets-0.12.16.min.js\", \"https://cdn.pydata.org/bokeh/release/bokeh-tables-0.12.16.min.js\", \"https://cdn.pydata.org/bokeh/release/bokeh-gl-0.12.16.min.js\"];\n\n  var inline_js = [\n    function(Bokeh) {\n      Bokeh.set_log_level(\"info\");\n    },\n    \n    function(Bokeh) {\n      \n    },\n    function(Bokeh) {\n      console.log(\"Bokeh: injecting CSS: https://cdn.pydata.org/bokeh/release/bokeh-0.12.16.min.css\");\n      Bokeh.embed.inject_css(\"https://cdn.pydata.org/bokeh/release/bokeh-0.12.16.min.css\");\n      console.log(\"Bokeh: injecting CSS: https://cdn.pydata.org/bokeh/release/bokeh-widgets-0.12.16.min.css\");\n      Bokeh.embed.inject_css(\"https://cdn.pydata.org/bokeh/release/bokeh-widgets-0.12.16.min.css\");\n      console.log(\"Bokeh: injecting CSS: https://cdn.pydata.org/bokeh/release/bokeh-tables-0.12.16.min.css\");\n      Bokeh.embed.inject_css(\"https://cdn.pydata.org/bokeh/release/bokeh-tables-0.12.16.min.css\");\n    }\n  ];\n\n  function run_inline_js() {\n    \n    if ((root.Bokeh !== undefined) || (force === true)) {\n      for (var i = 0; i < inline_js.length; i++) {\n        inline_js[i].call(root, root.Bokeh);\n      }if (force === true) {\n        display_loaded();\n      }} else if (Date.now() < root._bokeh_timeout) {\n      setTimeout(run_inline_js, 100);\n    } else if (!root._bokeh_failed_load) {\n      console.log(\"Bokeh: BokehJS failed to load within specified timeout.\");\n      root._bokeh_failed_load = true;\n    } else if (force !== true) {\n      var cell = $(document.getElementById(\"0198b7f8-7f54-43dc-aeeb-299b9f3a7243\")).parents('.cell').data().cell;\n      cell.output_area.append_execute_result(NB_LOAD_WARNING)\n    }\n\n  }\n\n  if (root._bokeh_is_loading === 0) {\n    console.log(\"Bokeh: BokehJS loaded, going straight to plotting\");\n    run_inline_js();\n  } else {\n    load_libs(js_urls, function() {\n      console.log(\"Bokeh: BokehJS plotting callback run at\", now());\n      run_inline_js();\n    });\n  }\n}(window));"
     },
     "metadata": {},
     "output_type": "display_data"
    }
   ],
   "source": [
    "output_notebook()"
   ]
  },
  {
   "cell_type": "code",
   "execution_count": 5,
   "metadata": {
    "ExecuteTime": {
     "end_time": "2017-11-29T18:00:41.081809Z",
     "start_time": "2017-11-29T18:00:41.034555Z"
    }
   },
   "outputs": [],
   "source": [
    "import squarify\n",
    "# import colorlover as cl\n",
    "from bokeh.palettes import Paired12"
   ]
  },
  {
   "cell_type": "code",
   "execution_count": 5,
   "metadata": {
    "ExecuteTime": {
     "end_time": "2017-11-29T18:00:42.688032Z",
     "start_time": "2017-11-29T18:00:42.593911Z"
    }
   },
   "outputs": [
    {
     "data": {
      "text/html": [
       "<div>\n",
       "<style>\n",
       "    .dataframe thead tr:only-child th {\n",
       "        text-align: right;\n",
       "    }\n",
       "\n",
       "    .dataframe thead th {\n",
       "        text-align: left;\n",
       "    }\n",
       "\n",
       "    .dataframe tbody tr th {\n",
       "        vertical-align: top;\n",
       "    }\n",
       "</style>\n",
       "<table border=\"1\" class=\"dataframe\">\n",
       "  <thead>\n",
       "    <tr style=\"text-align: right;\">\n",
       "      <th></th>\n",
       "      <th>Vendor</th>\n",
       "      <th>Vul_Type</th>\n",
       "      <th>Count</th>\n",
       "    </tr>\n",
       "  </thead>\n",
       "  <tbody>\n",
       "    <tr>\n",
       "      <th>0</th>\n",
       "      <td>Microsoft</td>\n",
       "      <td>Denial of Service</td>\n",
       "      <td>1463</td>\n",
       "    </tr>\n",
       "    <tr>\n",
       "      <th>1</th>\n",
       "      <td>Microsoft</td>\n",
       "      <td>Execute Code</td>\n",
       "      <td>2567</td>\n",
       "    </tr>\n",
       "    <tr>\n",
       "      <th>2</th>\n",
       "      <td>Microsoft</td>\n",
       "      <td>Overflow</td>\n",
       "      <td>1495</td>\n",
       "    </tr>\n",
       "    <tr>\n",
       "      <th>3</th>\n",
       "      <td>Microsoft</td>\n",
       "      <td>Bypass Something</td>\n",
       "      <td>369</td>\n",
       "    </tr>\n",
       "    <tr>\n",
       "      <th>4</th>\n",
       "      <td>Microsoft</td>\n",
       "      <td>Gain Information</td>\n",
       "      <td>486</td>\n",
       "    </tr>\n",
       "  </tbody>\n",
       "</table>\n",
       "</div>"
      ],
      "text/plain": [
       "      Vendor           Vul_Type  Count\n",
       "0  Microsoft  Denial of Service   1463\n",
       "1  Microsoft       Execute Code   2567\n",
       "2  Microsoft           Overflow   1495\n",
       "3  Microsoft   Bypass Something    369\n",
       "4  Microsoft   Gain Information    486"
      ]
     },
     "execution_count": 5,
     "metadata": {},
     "output_type": "execute_result"
    }
   ],
   "source": [
    "df = pd.read_excel('/home/jdoz/Downloads/CVE_Top_3.xlsx', 'Sheet1')\n",
    "df.head()"
   ]
  },
  {
   "cell_type": "code",
   "execution_count": 6,
   "metadata": {
    "ExecuteTime": {
     "end_time": "2017-11-29T18:00:45.227205Z",
     "start_time": "2017-11-29T18:00:45.157879Z"
    }
   },
   "outputs": [
    {
     "data": {
      "text/html": [
       "<div>\n",
       "<style>\n",
       "    .dataframe thead tr:only-child th {\n",
       "        text-align: right;\n",
       "    }\n",
       "\n",
       "    .dataframe thead th {\n",
       "        text-align: left;\n",
       "    }\n",
       "\n",
       "    .dataframe tbody tr th {\n",
       "        vertical-align: top;\n",
       "    }\n",
       "</style>\n",
       "<table border=\"1\" class=\"dataframe\">\n",
       "  <thead>\n",
       "    <tr style=\"text-align: right;\">\n",
       "      <th></th>\n",
       "      <th>Vendor</th>\n",
       "      <th>Count</th>\n",
       "    </tr>\n",
       "  </thead>\n",
       "  <tbody>\n",
       "    <tr>\n",
       "      <th>1</th>\n",
       "      <td>Microsoft</td>\n",
       "      <td>8495</td>\n",
       "    </tr>\n",
       "    <tr>\n",
       "      <th>0</th>\n",
       "      <td>Apple</td>\n",
       "      <td>7954</td>\n",
       "    </tr>\n",
       "    <tr>\n",
       "      <th>2</th>\n",
       "      <td>Oracle</td>\n",
       "      <td>1153</td>\n",
       "    </tr>\n",
       "  </tbody>\n",
       "</table>\n",
       "</div>"
      ],
      "text/plain": [
       "      Vendor  Count\n",
       "1  Microsoft   8495\n",
       "0      Apple   7954\n",
       "2     Oracle   1153"
      ]
     },
     "execution_count": 6,
     "metadata": {},
     "output_type": "execute_result"
    }
   ],
   "source": [
    "vendor_level = df.groupby('Vendor')['Count'].sum().reset_index()\n",
    "vendor_level.sort_values('Count', ascending=False, inplace=True)\n",
    "vendor_level"
   ]
  },
  {
   "cell_type": "code",
   "execution_count": 7,
   "metadata": {
    "ExecuteTime": {
     "end_time": "2017-11-29T18:00:49.569630Z",
     "start_time": "2017-11-29T18:00:49.555866Z"
    },
    "collapsed": true
   },
   "outputs": [],
   "source": [
    "# returns a list of rectangles\n",
    "values = squarify.normalize_sizes(vendor_level['Count'].values, 15, 10)\n",
    "rects = squarify.squarify(values, x = 0, y = 0, dx = 15, dy = 10)\n",
    "\n",
    "colors = [Paired12[1],Paired12[3],Paired12[5]]\n",
    "cmap = {x:y for x,y in zip(vendor_level['Vendor'].unique(), colors)}\n",
    "\n",
    "data = pd.DataFrame(rects)"
   ]
  },
  {
   "cell_type": "code",
   "execution_count": 8,
   "metadata": {
    "ExecuteTime": {
     "end_time": "2017-11-29T18:00:50.598272Z",
     "start_time": "2017-11-29T18:00:50.578921Z"
    },
    "collapsed": true,
    "scrolled": true
   },
   "outputs": [],
   "source": [
    "data['top'] = data['y'] + data['dy']\n",
    "data['right'] = data['x'] + data['dx']\n",
    "data['Vendor'] = vendor_level['Vendor'].unique()\n",
    "data['color'] = data['Vendor'].map(cmap)\n",
    "data = data.merge(vendor_level)"
   ]
  },
  {
   "cell_type": "code",
   "execution_count": 13,
   "metadata": {
    "ExecuteTime": {
     "end_time": "2017-11-29T18:01:54.962819Z",
     "start_time": "2017-11-29T18:01:54.456636Z"
    },
    "scrolled": false
   },
   "outputs": [
    {
     "data": {
      "text/html": [
       "<div style=\"display: table;\"><div style=\"display: table-row;\"><div style=\"display: table-cell;\"><b title=\"bokeh.models.renderers.GlyphRenderer\">GlyphRenderer</b>(</div><div style=\"display: table-cell;\">id&nbsp;=&nbsp;'2cd8ea37-974a-4c14-b8d2-dd969fe07162', <span id=\"922a796e-da6b-4a88-9060-49a09db8249c\" style=\"cursor: pointer;\">&hellip;)</span></div></div><div class=\"d0819e22-87c0-43ad-9bfb-b5d8dfc5a72a\" style=\"display: none;\"><div style=\"display: table-cell;\"></div><div style=\"display: table-cell;\">data_source&nbsp;=&nbsp;ColumnDataSource(id='78f24613-da7b-49ef-9454-fc3dcff7e192', ...),</div></div><div class=\"d0819e22-87c0-43ad-9bfb-b5d8dfc5a72a\" style=\"display: none;\"><div style=\"display: table-cell;\"></div><div style=\"display: table-cell;\">glyph&nbsp;=&nbsp;Quad(id='df8c645f-a7d9-4e72-997c-020c3c006657', ...),</div></div><div class=\"d0819e22-87c0-43ad-9bfb-b5d8dfc5a72a\" style=\"display: none;\"><div style=\"display: table-cell;\"></div><div style=\"display: table-cell;\">hover_glyph&nbsp;=&nbsp;None,</div></div><div class=\"d0819e22-87c0-43ad-9bfb-b5d8dfc5a72a\" style=\"display: none;\"><div style=\"display: table-cell;\"></div><div style=\"display: table-cell;\">js_event_callbacks&nbsp;=&nbsp;{},</div></div><div class=\"d0819e22-87c0-43ad-9bfb-b5d8dfc5a72a\" style=\"display: none;\"><div style=\"display: table-cell;\"></div><div style=\"display: table-cell;\">js_property_callbacks&nbsp;=&nbsp;{},</div></div><div class=\"d0819e22-87c0-43ad-9bfb-b5d8dfc5a72a\" style=\"display: none;\"><div style=\"display: table-cell;\"></div><div style=\"display: table-cell;\">level&nbsp;=&nbsp;'glyph',</div></div><div class=\"d0819e22-87c0-43ad-9bfb-b5d8dfc5a72a\" style=\"display: none;\"><div style=\"display: table-cell;\"></div><div style=\"display: table-cell;\">muted&nbsp;=&nbsp;False,</div></div><div class=\"d0819e22-87c0-43ad-9bfb-b5d8dfc5a72a\" style=\"display: none;\"><div style=\"display: table-cell;\"></div><div style=\"display: table-cell;\">muted_glyph&nbsp;=&nbsp;None,</div></div><div class=\"d0819e22-87c0-43ad-9bfb-b5d8dfc5a72a\" style=\"display: none;\"><div style=\"display: table-cell;\"></div><div style=\"display: table-cell;\">name&nbsp;=&nbsp;None,</div></div><div class=\"d0819e22-87c0-43ad-9bfb-b5d8dfc5a72a\" style=\"display: none;\"><div style=\"display: table-cell;\"></div><div style=\"display: table-cell;\">nonselection_glyph&nbsp;=&nbsp;Quad(id='5147f1d0-da61-4835-bdca-ba8b55e277cb', ...),</div></div><div class=\"d0819e22-87c0-43ad-9bfb-b5d8dfc5a72a\" style=\"display: none;\"><div style=\"display: table-cell;\"></div><div style=\"display: table-cell;\">selection_glyph&nbsp;=&nbsp;None,</div></div><div class=\"d0819e22-87c0-43ad-9bfb-b5d8dfc5a72a\" style=\"display: none;\"><div style=\"display: table-cell;\"></div><div style=\"display: table-cell;\">subscribed_events&nbsp;=&nbsp;[],</div></div><div class=\"d0819e22-87c0-43ad-9bfb-b5d8dfc5a72a\" style=\"display: none;\"><div style=\"display: table-cell;\"></div><div style=\"display: table-cell;\">tags&nbsp;=&nbsp;[],</div></div><div class=\"d0819e22-87c0-43ad-9bfb-b5d8dfc5a72a\" style=\"display: none;\"><div style=\"display: table-cell;\"></div><div style=\"display: table-cell;\">view&nbsp;=&nbsp;CDSView(id='6487ca51-52d5-4726-af53-6a7e23eb34d0', ...),</div></div><div class=\"d0819e22-87c0-43ad-9bfb-b5d8dfc5a72a\" style=\"display: none;\"><div style=\"display: table-cell;\"></div><div style=\"display: table-cell;\">visible&nbsp;=&nbsp;True,</div></div><div class=\"d0819e22-87c0-43ad-9bfb-b5d8dfc5a72a\" style=\"display: none;\"><div style=\"display: table-cell;\"></div><div style=\"display: table-cell;\">x_range_name&nbsp;=&nbsp;'default',</div></div><div class=\"d0819e22-87c0-43ad-9bfb-b5d8dfc5a72a\" style=\"display: none;\"><div style=\"display: table-cell;\"></div><div style=\"display: table-cell;\">y_range_name&nbsp;=&nbsp;'default')</div></div></div>\n",
       "<script>\n",
       "(function() {\n",
       "  var expanded = false;\n",
       "  var ellipsis = document.getElementById(\"922a796e-da6b-4a88-9060-49a09db8249c\");\n",
       "  ellipsis.addEventListener(\"click\", function() {\n",
       "    var rows = document.getElementsByClassName(\"d0819e22-87c0-43ad-9bfb-b5d8dfc5a72a\");\n",
       "    for (var i = 0; i < rows.length; i++) {\n",
       "      var el = rows[i];\n",
       "      el.style.display = expanded ? \"none\" : \"table-row\";\n",
       "    }\n",
       "    ellipsis.innerHTML = expanded ? \"&hellip;)\" : \"&lsaquo;&lsaquo;&lsaquo;\";\n",
       "    expanded = !expanded;\n",
       "  });\n",
       "})();\n",
       "</script>\n"
      ],
      "text/plain": [
       "GlyphRenderer(id='2cd8ea37-974a-4c14-b8d2-dd969fe07162', ...)"
      ]
     },
     "execution_count": 13,
     "metadata": {},
     "output_type": "execute_result"
    },
    {
     "data": {
      "text/html": [
       "<div style=\"display: table;\"><div style=\"display: table-row;\"><div style=\"display: table-cell;\"><b title=\"bokeh.models.renderers.GlyphRenderer\">GlyphRenderer</b>(</div><div style=\"display: table-cell;\">id&nbsp;=&nbsp;'ff544361-41a6-48af-81da-1d29b0e6331f', <span id=\"1c4f41c4-eb4b-4970-b864-33ba03445d5b\" style=\"cursor: pointer;\">&hellip;)</span></div></div><div class=\"8ed470bb-7abb-4e44-80a1-2c77e19d94b5\" style=\"display: none;\"><div style=\"display: table-cell;\"></div><div style=\"display: table-cell;\">data_source&nbsp;=&nbsp;ColumnDataSource(id='78f24613-da7b-49ef-9454-fc3dcff7e192', ...),</div></div><div class=\"8ed470bb-7abb-4e44-80a1-2c77e19d94b5\" style=\"display: none;\"><div style=\"display: table-cell;\"></div><div style=\"display: table-cell;\">glyph&nbsp;=&nbsp;Text(id='17b05f8a-1e0c-4bf6-afee-7130e7ab098a', ...),</div></div><div class=\"8ed470bb-7abb-4e44-80a1-2c77e19d94b5\" style=\"display: none;\"><div style=\"display: table-cell;\"></div><div style=\"display: table-cell;\">hover_glyph&nbsp;=&nbsp;None,</div></div><div class=\"8ed470bb-7abb-4e44-80a1-2c77e19d94b5\" style=\"display: none;\"><div style=\"display: table-cell;\"></div><div style=\"display: table-cell;\">js_event_callbacks&nbsp;=&nbsp;{},</div></div><div class=\"8ed470bb-7abb-4e44-80a1-2c77e19d94b5\" style=\"display: none;\"><div style=\"display: table-cell;\"></div><div style=\"display: table-cell;\">js_property_callbacks&nbsp;=&nbsp;{},</div></div><div class=\"8ed470bb-7abb-4e44-80a1-2c77e19d94b5\" style=\"display: none;\"><div style=\"display: table-cell;\"></div><div style=\"display: table-cell;\">level&nbsp;=&nbsp;'glyph',</div></div><div class=\"8ed470bb-7abb-4e44-80a1-2c77e19d94b5\" style=\"display: none;\"><div style=\"display: table-cell;\"></div><div style=\"display: table-cell;\">muted&nbsp;=&nbsp;False,</div></div><div class=\"8ed470bb-7abb-4e44-80a1-2c77e19d94b5\" style=\"display: none;\"><div style=\"display: table-cell;\"></div><div style=\"display: table-cell;\">muted_glyph&nbsp;=&nbsp;None,</div></div><div class=\"8ed470bb-7abb-4e44-80a1-2c77e19d94b5\" style=\"display: none;\"><div style=\"display: table-cell;\"></div><div style=\"display: table-cell;\">name&nbsp;=&nbsp;None,</div></div><div class=\"8ed470bb-7abb-4e44-80a1-2c77e19d94b5\" style=\"display: none;\"><div style=\"display: table-cell;\"></div><div style=\"display: table-cell;\">nonselection_glyph&nbsp;=&nbsp;Text(id='e8fc85b9-5fd9-492d-8760-b6a303563148', ...),</div></div><div class=\"8ed470bb-7abb-4e44-80a1-2c77e19d94b5\" style=\"display: none;\"><div style=\"display: table-cell;\"></div><div style=\"display: table-cell;\">selection_glyph&nbsp;=&nbsp;None,</div></div><div class=\"8ed470bb-7abb-4e44-80a1-2c77e19d94b5\" style=\"display: none;\"><div style=\"display: table-cell;\"></div><div style=\"display: table-cell;\">subscribed_events&nbsp;=&nbsp;[],</div></div><div class=\"8ed470bb-7abb-4e44-80a1-2c77e19d94b5\" style=\"display: none;\"><div style=\"display: table-cell;\"></div><div style=\"display: table-cell;\">tags&nbsp;=&nbsp;[],</div></div><div class=\"8ed470bb-7abb-4e44-80a1-2c77e19d94b5\" style=\"display: none;\"><div style=\"display: table-cell;\"></div><div style=\"display: table-cell;\">view&nbsp;=&nbsp;CDSView(id='8c0ba1de-ed0d-49a4-ae72-6c3bbefca623', ...),</div></div><div class=\"8ed470bb-7abb-4e44-80a1-2c77e19d94b5\" style=\"display: none;\"><div style=\"display: table-cell;\"></div><div style=\"display: table-cell;\">visible&nbsp;=&nbsp;True,</div></div><div class=\"8ed470bb-7abb-4e44-80a1-2c77e19d94b5\" style=\"display: none;\"><div style=\"display: table-cell;\"></div><div style=\"display: table-cell;\">x_range_name&nbsp;=&nbsp;'default',</div></div><div class=\"8ed470bb-7abb-4e44-80a1-2c77e19d94b5\" style=\"display: none;\"><div style=\"display: table-cell;\"></div><div style=\"display: table-cell;\">y_range_name&nbsp;=&nbsp;'default')</div></div></div>\n",
       "<script>\n",
       "(function() {\n",
       "  var expanded = false;\n",
       "  var ellipsis = document.getElementById(\"1c4f41c4-eb4b-4970-b864-33ba03445d5b\");\n",
       "  ellipsis.addEventListener(\"click\", function() {\n",
       "    var rows = document.getElementsByClassName(\"8ed470bb-7abb-4e44-80a1-2c77e19d94b5\");\n",
       "    for (var i = 0; i < rows.length; i++) {\n",
       "      var el = rows[i];\n",
       "      el.style.display = expanded ? \"none\" : \"table-row\";\n",
       "    }\n",
       "    ellipsis.innerHTML = expanded ? \"&hellip;)\" : \"&lsaquo;&lsaquo;&lsaquo;\";\n",
       "    expanded = !expanded;\n",
       "  });\n",
       "})();\n",
       "</script>\n"
      ],
      "text/plain": [
       "GlyphRenderer(id='ff544361-41a6-48af-81da-1d29b0e6331f', ...)"
      ]
     },
     "execution_count": 13,
     "metadata": {},
     "output_type": "execute_result"
    },
    {
     "data": {
      "text/html": [
       "\n",
       "<div class=\"bk-root\">\n",
       "    <div class=\"bk-plotdiv\" id=\"8398e14a-dcd7-4bda-bf8d-ba51084dd0d4\"></div>\n",
       "</div>"
      ]
     },
     "metadata": {},
     "output_type": "display_data"
    },
    {
     "data": {
      "application/javascript": [
       "(function(root) {\n",
       "  function embed_document(root) {\n",
       "    var docs_json = {\"c92cf33d-bd5b-4095-85e7-5502bcb41620\":{\"roots\":{\"references\":[{\"attributes\":{\"active_drag\":\"auto\",\"active_inspect\":\"auto\",\"active_scroll\":\"auto\",\"active_tap\":\"auto\",\"tools\":[{\"id\":\"23fb8bd3-daa0-4e27-a6a4-dce5308165bc\",\"type\":\"HoverTool\"}]},\"id\":\"b1ea0248-09a2-4930-a250-9c455040fa16\",\"type\":\"Toolbar\"},{\"attributes\":{\"dimension\":1,\"plot\":{\"id\":\"568c6504-bdb6-4320-8be6-daf94b5fbc7e\",\"subtype\":\"Figure\",\"type\":\"Plot\"},\"ticker\":{\"id\":\"422f0d6c-ef41-456a-bfee-cca4c1653ff1\",\"type\":\"BasicTicker\"},\"visible\":false},\"id\":\"30c5e9bc-d211-4276-8374-069029d6a8af\",\"type\":\"Grid\"},{\"attributes\":{\"text\":{\"field\":\"Vendor\"},\"text_color\":{\"value\":\"black\"},\"text_font_size\":{\"value\":\"16pt\"},\"x\":{\"field\":\"x\"},\"x_offset\":{\"value\":10},\"y\":{\"field\":\"top\"},\"y_offset\":{\"value\":30}},\"id\":\"17b05f8a-1e0c-4bf6-afee-7130e7ab098a\",\"type\":\"Text\"},{\"attributes\":{\"callback\":null},\"id\":\"30df09fc-d91c-4f5a-ba82-160eab35da47\",\"type\":\"DataRange1d\"},{\"attributes\":{\"text\":{\"field\":\"Vendor\"},\"text_alpha\":{\"value\":0.1},\"text_color\":{\"value\":\"black\"},\"text_font_size\":{\"value\":\"16pt\"},\"x\":{\"field\":\"x\"},\"x_offset\":{\"value\":10},\"y\":{\"field\":\"top\"},\"y_offset\":{\"value\":30}},\"id\":\"e8fc85b9-5fd9-492d-8760-b6a303563148\",\"type\":\"Text\"},{\"attributes\":{\"data_source\":{\"id\":\"78f24613-da7b-49ef-9454-fc3dcff7e192\",\"type\":\"ColumnDataSource\"},\"glyph\":{\"id\":\"17b05f8a-1e0c-4bf6-afee-7130e7ab098a\",\"type\":\"Text\"},\"hover_glyph\":null,\"muted_glyph\":null,\"nonselection_glyph\":{\"id\":\"e8fc85b9-5fd9-492d-8760-b6a303563148\",\"type\":\"Text\"},\"selection_glyph\":null,\"view\":{\"id\":\"8c0ba1de-ed0d-49a4-ae72-6c3bbefca623\",\"type\":\"CDSView\"}},\"id\":\"ff544361-41a6-48af-81da-1d29b0e6331f\",\"type\":\"GlyphRenderer\"},{\"attributes\":{},\"id\":\"90c64579-0d91-4c6d-9878-02d2783c93a6\",\"type\":\"LinearScale\"},{\"attributes\":{\"source\":{\"id\":\"78f24613-da7b-49ef-9454-fc3dcff7e192\",\"type\":\"ColumnDataSource\"}},\"id\":\"8c0ba1de-ed0d-49a4-ae72-6c3bbefca623\",\"type\":\"CDSView\"},{\"attributes\":{},\"id\":\"5318475f-3703-4167-aec8-990282efe2b7\",\"type\":\"LinearScale\"},{\"attributes\":{},\"id\":\"17493350-5190-45d8-9729-88b9c2ec015c\",\"type\":\"BasicTickFormatter\"},{\"attributes\":{\"callback\":null,\"column_names\":[\"dx\",\"dy\",\"x\",\"y\",\"top\",\"right\",\"Vendor\",\"color\",\"Count\",\"index\"],\"data\":{\"Count\":[8495,7954,1153],\"Vendor\":[\"Microsoft\",\"Apple\",\"Oracle\"],\"color\":[\"#1f78b4\",\"#33a02c\",\"#e31a1c\"],\"dx\":{\"__ndarray__\":\"5UDpzfn0HEAavxYyBgsfQB+/FjIGCx9A\",\"dtype\":\"float64\",\"shape\":[3]},\"dy\":{\"__ndarray__\":\"AAAAAAAAJECGZNgax3chQNDbPCnHQfQ/\",\"dtype\":\"float64\",\"shape\":[3]},\"index\":[0,1,2],\"right\":{\"__ndarray__\":\"5UDpzfn0HEAAAAAAAAAuQAIAAAAAAC5A\",\"dtype\":\"float64\",\"shape\":[3]},\"top\":{\"__ndarray__\":\"AAAAAAAAJECGZNgax3chQAAAAAAAACRA\",\"dtype\":\"float64\",\"shape\":[3]},\"x\":{\"__ndarray__\":\"AAAAAAAAAADlQOnN+fQcQOVA6c359BxA\",\"dtype\":\"float64\",\"shape\":[3]},\"y\":{\"__ndarray__\":\"AAAAAAAAAAAAAAAAAAAAAIZk2BrHdyFA\",\"dtype\":\"float64\",\"shape\":[3]}}},\"id\":\"78f24613-da7b-49ef-9454-fc3dcff7e192\",\"type\":\"ColumnDataSource\"},{\"attributes\":{\"callback\":null},\"id\":\"c60dfb96-5414-4333-8781-65156b9523cf\",\"type\":\"DataRange1d\"},{\"attributes\":{\"plot\":null,\"text\":\"\"},\"id\":\"a0685ead-3923-432e-8dcb-4922f6372af1\",\"type\":\"Title\"},{\"attributes\":{},\"id\":\"0b867fce-1372-4d4f-8f42-dc5cf5201645\",\"type\":\"BasicTicker\"},{\"attributes\":{\"bottom\":{\"field\":\"y\"},\"fill_alpha\":{\"value\":0.1},\"fill_color\":{\"value\":\"#1f77b4\"},\"left\":{\"field\":\"x\"},\"line_alpha\":{\"value\":0.1},\"line_color\":{\"value\":\"#1f77b4\"},\"line_width\":{\"value\":2},\"right\":{\"field\":\"right\"},\"top\":{\"field\":\"top\"}},\"id\":\"5147f1d0-da61-4835-bdca-ba8b55e277cb\",\"type\":\"Quad\"},{\"attributes\":{\"formatter\":{\"id\":\"17493350-5190-45d8-9729-88b9c2ec015c\",\"type\":\"BasicTickFormatter\"},\"plot\":{\"id\":\"568c6504-bdb6-4320-8be6-daf94b5fbc7e\",\"subtype\":\"Figure\",\"type\":\"Plot\"},\"ticker\":{\"id\":\"0b867fce-1372-4d4f-8f42-dc5cf5201645\",\"type\":\"BasicTicker\"},\"visible\":false},\"id\":\"1e524785-50f3-4550-b23e-7ac620ad12d6\",\"type\":\"LinearAxis\"},{\"attributes\":{\"bottom\":{\"field\":\"y\"},\"fill_color\":{\"field\":\"color\"},\"left\":{\"field\":\"x\"},\"line_color\":{\"value\":\"white\"},\"line_width\":{\"value\":2},\"right\":{\"field\":\"right\"},\"top\":{\"field\":\"top\"}},\"id\":\"df8c645f-a7d9-4e72-997c-020c3c006657\",\"type\":\"Quad\"},{\"attributes\":{\"below\":[{\"id\":\"1e524785-50f3-4550-b23e-7ac620ad12d6\",\"type\":\"LinearAxis\"}],\"left\":[{\"id\":\"8b091106-72c6-4158-99f0-d22f02548446\",\"type\":\"LinearAxis\"}],\"outline_line_color\":{\"value\":null},\"plot_width\":900,\"renderers\":[{\"id\":\"1e524785-50f3-4550-b23e-7ac620ad12d6\",\"type\":\"LinearAxis\"},{\"id\":\"e8c75bd6-7325-43f0-88b1-6424a499c5c8\",\"type\":\"Grid\"},{\"id\":\"8b091106-72c6-4158-99f0-d22f02548446\",\"type\":\"LinearAxis\"},{\"id\":\"30c5e9bc-d211-4276-8374-069029d6a8af\",\"type\":\"Grid\"},{\"id\":\"2cd8ea37-974a-4c14-b8d2-dd969fe07162\",\"type\":\"GlyphRenderer\"},{\"id\":\"ff544361-41a6-48af-81da-1d29b0e6331f\",\"type\":\"GlyphRenderer\"}],\"title\":{\"id\":\"a0685ead-3923-432e-8dcb-4922f6372af1\",\"type\":\"Title\"},\"toolbar\":{\"id\":\"b1ea0248-09a2-4930-a250-9c455040fa16\",\"type\":\"Toolbar\"},\"toolbar_location\":null,\"x_range\":{\"id\":\"30df09fc-d91c-4f5a-ba82-160eab35da47\",\"type\":\"DataRange1d\"},\"x_scale\":{\"id\":\"90c64579-0d91-4c6d-9878-02d2783c93a6\",\"type\":\"LinearScale\"},\"y_range\":{\"id\":\"c60dfb96-5414-4333-8781-65156b9523cf\",\"type\":\"DataRange1d\"},\"y_scale\":{\"id\":\"5318475f-3703-4167-aec8-990282efe2b7\",\"type\":\"LinearScale\"}},\"id\":\"568c6504-bdb6-4320-8be6-daf94b5fbc7e\",\"subtype\":\"Figure\",\"type\":\"Plot\"},{\"attributes\":{\"callback\":null,\"tooltips\":[[\"Vendor\",\"@Vendor\"],[\"Count\",\"@Count\"]]},\"id\":\"23fb8bd3-daa0-4e27-a6a4-dce5308165bc\",\"type\":\"HoverTool\"},{\"attributes\":{\"formatter\":{\"id\":\"067839c8-c4f5-4eaa-bfdc-16d8be890e38\",\"type\":\"BasicTickFormatter\"},\"plot\":{\"id\":\"568c6504-bdb6-4320-8be6-daf94b5fbc7e\",\"subtype\":\"Figure\",\"type\":\"Plot\"},\"ticker\":{\"id\":\"422f0d6c-ef41-456a-bfee-cca4c1653ff1\",\"type\":\"BasicTicker\"},\"visible\":false},\"id\":\"8b091106-72c6-4158-99f0-d22f02548446\",\"type\":\"LinearAxis\"},{\"attributes\":{},\"id\":\"422f0d6c-ef41-456a-bfee-cca4c1653ff1\",\"type\":\"BasicTicker\"},{\"attributes\":{\"data_source\":{\"id\":\"78f24613-da7b-49ef-9454-fc3dcff7e192\",\"type\":\"ColumnDataSource\"},\"glyph\":{\"id\":\"df8c645f-a7d9-4e72-997c-020c3c006657\",\"type\":\"Quad\"},\"hover_glyph\":null,\"muted_glyph\":null,\"nonselection_glyph\":{\"id\":\"5147f1d0-da61-4835-bdca-ba8b55e277cb\",\"type\":\"Quad\"},\"selection_glyph\":null,\"view\":{\"id\":\"6487ca51-52d5-4726-af53-6a7e23eb34d0\",\"type\":\"CDSView\"}},\"id\":\"2cd8ea37-974a-4c14-b8d2-dd969fe07162\",\"type\":\"GlyphRenderer\"},{\"attributes\":{},\"id\":\"067839c8-c4f5-4eaa-bfdc-16d8be890e38\",\"type\":\"BasicTickFormatter\"},{\"attributes\":{\"plot\":{\"id\":\"568c6504-bdb6-4320-8be6-daf94b5fbc7e\",\"subtype\":\"Figure\",\"type\":\"Plot\"},\"ticker\":{\"id\":\"0b867fce-1372-4d4f-8f42-dc5cf5201645\",\"type\":\"BasicTicker\"},\"visible\":false},\"id\":\"e8c75bd6-7325-43f0-88b1-6424a499c5c8\",\"type\":\"Grid\"},{\"attributes\":{\"source\":{\"id\":\"78f24613-da7b-49ef-9454-fc3dcff7e192\",\"type\":\"ColumnDataSource\"}},\"id\":\"6487ca51-52d5-4726-af53-6a7e23eb34d0\",\"type\":\"CDSView\"}],\"root_ids\":[\"568c6504-bdb6-4320-8be6-daf94b5fbc7e\"]},\"title\":\"Bokeh Application\",\"version\":\"0.12.10\"}};\n",
       "    var render_items = [{\"docid\":\"c92cf33d-bd5b-4095-85e7-5502bcb41620\",\"elementid\":\"8398e14a-dcd7-4bda-bf8d-ba51084dd0d4\",\"modelid\":\"568c6504-bdb6-4320-8be6-daf94b5fbc7e\"}];\n",
       "\n",
       "    root.Bokeh.embed.embed_items(docs_json, render_items);\n",
       "  }\n",
       "\n",
       "  if (root.Bokeh !== undefined) {\n",
       "    embed_document(root);\n",
       "  } else {\n",
       "    var attempts = 0;\n",
       "    var timer = setInterval(function(root) {\n",
       "      if (root.Bokeh !== undefined) {\n",
       "        embed_document(root);\n",
       "        clearInterval(timer);\n",
       "      }\n",
       "      attempts++;\n",
       "      if (attempts > 100) {\n",
       "        console.log(\"Bokeh: ERROR: Unable to embed document because BokehJS library is missing\")\n",
       "        clearInterval(timer);\n",
       "      }\n",
       "    }, 10, root)\n",
       "  }\n",
       "})(window);"
      ],
      "application/vnd.bokehjs_exec.v0+json": ""
     },
     "metadata": {
      "application/vnd.bokehjs_exec.v0+json": {
       "id": "568c6504-bdb6-4320-8be6-daf94b5fbc7e"
      }
     },
     "output_type": "display_data"
    }
   ],
   "source": [
    "hover = HoverTool(tooltips=[\n",
    "    (\"Vendor\", \"@Vendor\"),\n",
    "    (\"Count\", \"@Count\"),\n",
    "])\n",
    "\n",
    "source = ColumnDataSource(data = data)\n",
    "\n",
    "p = figure(tools = [hover], toolbar_location = None, plot_width = 900)\n",
    "    \n",
    "p.quad(bottom = 'y',\n",
    "       right = 'right',\n",
    "       top = 'top', \n",
    "       left = 'x', \n",
    "       color = 'color',\n",
    "       line_color = 'white', \n",
    "       line_width = 2,\n",
    "       source = source)\n",
    "p.text(x = 'x', y = 'top', \n",
    "       x_offset = 10, y_offset = 30,\n",
    "       text_font_size = '16pt',\n",
    "       text='Vendor', source = source)\n",
    "\n",
    "p.grid.visible = False\n",
    "p.axis.visible = False\n",
    "p.outline_line_color = None\n",
    "show(p)\n",
    "# script, div = components(p)\n",
    "# print(script)\n",
    "# print(div)"
   ]
  },
  {
   "cell_type": "code",
   "execution_count": 20,
   "metadata": {
    "ExecuteTime": {
     "end_time": "2017-11-24T19:26:56.797124Z",
     "start_time": "2017-11-24T19:26:56.736832Z"
    },
    "collapsed": true
   },
   "outputs": [],
   "source": [
    "def squares(df,group,val, x_dim, y_dim):\n",
    "\n",
    "    temp_grouped = df.groupby(group)[val].sum().reset_index()\n",
    "    temp_grouped = temp_grouped.sort_values(val, ascending = False)\n",
    "\n",
    "    values = squarify.normalize_sizes(temp_grouped[val].values, x_dim, -y_dim)\n",
    "    rects = squarify.squarify(values,x = 0, y = 0, dx=x_dim, dy=-y_dim)\n",
    "    rects_df = pd.DataFrame(data = rects)\n",
    "    rects_df[group] = temp_grouped[group]\n",
    "    \n",
    "    rects_df[val] = temp_grouped[val]\n",
    "    \n",
    "    columns = ['dx','dy','x','y',str(group)]\n",
    "    rf = pd.DataFrame(columns=columns)\n",
    "    \n",
    "    for index, row in rects_df.iterrows():\n",
    "        g_df = df[df[group]== row[group]]\n",
    "        g_df = g_df.sort_values(val,ascending = False)\n",
    "\n",
    "        values = squarify.normalize_sizes(g_df[val].values, \n",
    "                                          row['dx'], row['dy'])\n",
    "        \n",
    "        rects = squarify.squarify(values,\n",
    "                                  x = row['x'], y = row['y'], \n",
    "                                  dx = row['dx'], dy = row['dy'])\n",
    "        rects_group_df = pd.DataFrame(data = rects)\n",
    "        rects_group_df[group] = str(row[group])\n",
    "        rects_group_df[val] = g_df[val].values\n",
    "        rf = pd.concat([rf,rects_group_df])\n",
    "    \n",
    "    df = df.merge(rf, on = [group, val], how = 'left')\n",
    "    df['bottom'] = df['y'] + df['dy']\n",
    "    df['right'] = df['x'] + df['dx']\n",
    "    return df"
   ]
  },
  {
   "cell_type": "code",
   "execution_count": 21,
   "metadata": {
    "ExecuteTime": {
     "end_time": "2017-11-24T19:27:00.368463Z",
     "start_time": "2017-11-24T19:27:00.362491Z"
    },
    "collapsed": true
   },
   "outputs": [],
   "source": [
    "df = df.sort_values(['Vendor','Count'], ascending=False)"
   ]
  },
  {
   "cell_type": "code",
   "execution_count": 22,
   "metadata": {
    "ExecuteTime": {
     "end_time": "2017-11-24T19:27:01.582806Z",
     "start_time": "2017-11-24T19:27:01.542856Z"
    },
    "collapsed": true,
    "scrolled": false
   },
   "outputs": [],
   "source": [
    "sq = squares(df, 'Vendor', 'Count', 10,10)"
   ]
  },
  {
   "cell_type": "code",
   "execution_count": 23,
   "metadata": {
    "ExecuteTime": {
     "end_time": "2017-11-24T19:27:01.952615Z",
     "start_time": "2017-11-24T19:27:01.938026Z"
    },
    "collapsed": true
   },
   "outputs": [],
   "source": [
    "sq['Color'] = sq['Vendor'].map(cmap)\n",
    "sq = sq.sort_values('Vendor', ascending=True)"
   ]
  },
  {
   "cell_type": "code",
   "execution_count": 25,
   "metadata": {
    "ExecuteTime": {
     "end_time": "2017-11-24T19:27:33.938894Z",
     "start_time": "2017-11-24T19:27:33.845924Z"
    },
    "scrolled": false
   },
   "outputs": [
    {
     "data": {
      "text/html": [
       "<div style=\"display: table;\"><div style=\"display: table-row;\"><div style=\"display: table-cell;\"><b title=\"bokeh.models.renderers.GlyphRenderer\">GlyphRenderer</b>(</div><div style=\"display: table-cell;\">id&nbsp;=&nbsp;'772d3d27-f866-4dc6-919b-c666a95b7b3e', <span id=\"0d458d00-8b31-4a8b-92b8-9bd44fea372f\" style=\"cursor: pointer;\">&hellip;)</span></div></div><div class=\"70d8edee-f914-40ca-bdd8-bc2f98f993bf\" style=\"display: none;\"><div style=\"display: table-cell;\"></div><div style=\"display: table-cell;\">data_source&nbsp;=&nbsp;ColumnDataSource(id='9a51cbf7-462c-40b6-9dd6-78d1bec20285', ...),</div></div><div class=\"70d8edee-f914-40ca-bdd8-bc2f98f993bf\" style=\"display: none;\"><div style=\"display: table-cell;\"></div><div style=\"display: table-cell;\">glyph&nbsp;=&nbsp;Quad(id='3bf38378-04a2-4b52-becd-8c89fc1833ce', ...),</div></div><div class=\"70d8edee-f914-40ca-bdd8-bc2f98f993bf\" style=\"display: none;\"><div style=\"display: table-cell;\"></div><div style=\"display: table-cell;\">hover_glyph&nbsp;=&nbsp;None,</div></div><div class=\"70d8edee-f914-40ca-bdd8-bc2f98f993bf\" style=\"display: none;\"><div style=\"display: table-cell;\"></div><div style=\"display: table-cell;\">js_event_callbacks&nbsp;=&nbsp;{},</div></div><div class=\"70d8edee-f914-40ca-bdd8-bc2f98f993bf\" style=\"display: none;\"><div style=\"display: table-cell;\"></div><div style=\"display: table-cell;\">js_property_callbacks&nbsp;=&nbsp;{},</div></div><div class=\"70d8edee-f914-40ca-bdd8-bc2f98f993bf\" style=\"display: none;\"><div style=\"display: table-cell;\"></div><div style=\"display: table-cell;\">level&nbsp;=&nbsp;'glyph',</div></div><div class=\"70d8edee-f914-40ca-bdd8-bc2f98f993bf\" style=\"display: none;\"><div style=\"display: table-cell;\"></div><div style=\"display: table-cell;\">muted&nbsp;=&nbsp;False,</div></div><div class=\"70d8edee-f914-40ca-bdd8-bc2f98f993bf\" style=\"display: none;\"><div style=\"display: table-cell;\"></div><div style=\"display: table-cell;\">muted_glyph&nbsp;=&nbsp;None,</div></div><div class=\"70d8edee-f914-40ca-bdd8-bc2f98f993bf\" style=\"display: none;\"><div style=\"display: table-cell;\"></div><div style=\"display: table-cell;\">name&nbsp;=&nbsp;None,</div></div><div class=\"70d8edee-f914-40ca-bdd8-bc2f98f993bf\" style=\"display: none;\"><div style=\"display: table-cell;\"></div><div style=\"display: table-cell;\">nonselection_glyph&nbsp;=&nbsp;Quad(id='e9520aef-2478-4dca-b03d-8b2e96de97dd', ...),</div></div><div class=\"70d8edee-f914-40ca-bdd8-bc2f98f993bf\" style=\"display: none;\"><div style=\"display: table-cell;\"></div><div style=\"display: table-cell;\">selection_glyph&nbsp;=&nbsp;None,</div></div><div class=\"70d8edee-f914-40ca-bdd8-bc2f98f993bf\" style=\"display: none;\"><div style=\"display: table-cell;\"></div><div style=\"display: table-cell;\">subscribed_events&nbsp;=&nbsp;[],</div></div><div class=\"70d8edee-f914-40ca-bdd8-bc2f98f993bf\" style=\"display: none;\"><div style=\"display: table-cell;\"></div><div style=\"display: table-cell;\">tags&nbsp;=&nbsp;[],</div></div><div class=\"70d8edee-f914-40ca-bdd8-bc2f98f993bf\" style=\"display: none;\"><div style=\"display: table-cell;\"></div><div style=\"display: table-cell;\">view&nbsp;=&nbsp;CDSView(id='927f0ca5-a21c-4e32-b095-ef5f012b7918', ...),</div></div><div class=\"70d8edee-f914-40ca-bdd8-bc2f98f993bf\" style=\"display: none;\"><div style=\"display: table-cell;\"></div><div style=\"display: table-cell;\">visible&nbsp;=&nbsp;True,</div></div><div class=\"70d8edee-f914-40ca-bdd8-bc2f98f993bf\" style=\"display: none;\"><div style=\"display: table-cell;\"></div><div style=\"display: table-cell;\">x_range_name&nbsp;=&nbsp;'default',</div></div><div class=\"70d8edee-f914-40ca-bdd8-bc2f98f993bf\" style=\"display: none;\"><div style=\"display: table-cell;\"></div><div style=\"display: table-cell;\">y_range_name&nbsp;=&nbsp;'default')</div></div></div>\n",
       "<script>\n",
       "(function() {\n",
       "  var expanded = false;\n",
       "  var ellipsis = document.getElementById(\"0d458d00-8b31-4a8b-92b8-9bd44fea372f\");\n",
       "  ellipsis.addEventListener(\"click\", function() {\n",
       "    var rows = document.getElementsByClassName(\"70d8edee-f914-40ca-bdd8-bc2f98f993bf\");\n",
       "    for (var i = 0; i < rows.length; i++) {\n",
       "      var el = rows[i];\n",
       "      el.style.display = expanded ? \"none\" : \"table-row\";\n",
       "    }\n",
       "    ellipsis.innerHTML = expanded ? \"&hellip;)\" : \"&lsaquo;&lsaquo;&lsaquo;\";\n",
       "    expanded = !expanded;\n",
       "  });\n",
       "})();\n",
       "</script>\n"
      ],
      "text/plain": [
       "GlyphRenderer(id='772d3d27-f866-4dc6-919b-c666a95b7b3e', ...)"
      ]
     },
     "execution_count": 25,
     "metadata": {},
     "output_type": "execute_result"
    },
    {
     "data": {
      "text/html": [
       "<div style=\"display: table;\"><div style=\"display: table-row;\"><div style=\"display: table-cell;\"><b title=\"bokeh.models.renderers.GlyphRenderer\">GlyphRenderer</b>(</div><div style=\"display: table-cell;\">id&nbsp;=&nbsp;'265e4944-fe18-4e5d-838b-0cdc2715c70d', <span id=\"13f0b061-262a-4c00-b455-bca8dd13b6e7\" style=\"cursor: pointer;\">&hellip;)</span></div></div><div class=\"9d2891d1-e3a0-4a7f-8b53-c00df80a6886\" style=\"display: none;\"><div style=\"display: table-cell;\"></div><div style=\"display: table-cell;\">data_source&nbsp;=&nbsp;ColumnDataSource(id='5c5e472b-ec1f-47dd-a700-622f2b014b9a', ...),</div></div><div class=\"9d2891d1-e3a0-4a7f-8b53-c00df80a6886\" style=\"display: none;\"><div style=\"display: table-cell;\"></div><div style=\"display: table-cell;\">glyph&nbsp;=&nbsp;Text(id='a22b24d8-01d3-41e7-bef6-de9a2e829940', ...),</div></div><div class=\"9d2891d1-e3a0-4a7f-8b53-c00df80a6886\" style=\"display: none;\"><div style=\"display: table-cell;\"></div><div style=\"display: table-cell;\">hover_glyph&nbsp;=&nbsp;None,</div></div><div class=\"9d2891d1-e3a0-4a7f-8b53-c00df80a6886\" style=\"display: none;\"><div style=\"display: table-cell;\"></div><div style=\"display: table-cell;\">js_event_callbacks&nbsp;=&nbsp;{},</div></div><div class=\"9d2891d1-e3a0-4a7f-8b53-c00df80a6886\" style=\"display: none;\"><div style=\"display: table-cell;\"></div><div style=\"display: table-cell;\">js_property_callbacks&nbsp;=&nbsp;{},</div></div><div class=\"9d2891d1-e3a0-4a7f-8b53-c00df80a6886\" style=\"display: none;\"><div style=\"display: table-cell;\"></div><div style=\"display: table-cell;\">level&nbsp;=&nbsp;'glyph',</div></div><div class=\"9d2891d1-e3a0-4a7f-8b53-c00df80a6886\" style=\"display: none;\"><div style=\"display: table-cell;\"></div><div style=\"display: table-cell;\">muted&nbsp;=&nbsp;False,</div></div><div class=\"9d2891d1-e3a0-4a7f-8b53-c00df80a6886\" style=\"display: none;\"><div style=\"display: table-cell;\"></div><div style=\"display: table-cell;\">muted_glyph&nbsp;=&nbsp;None,</div></div><div class=\"9d2891d1-e3a0-4a7f-8b53-c00df80a6886\" style=\"display: none;\"><div style=\"display: table-cell;\"></div><div style=\"display: table-cell;\">name&nbsp;=&nbsp;None,</div></div><div class=\"9d2891d1-e3a0-4a7f-8b53-c00df80a6886\" style=\"display: none;\"><div style=\"display: table-cell;\"></div><div style=\"display: table-cell;\">nonselection_glyph&nbsp;=&nbsp;Text(id='c5128fa5-1154-4a1b-b3bc-2c76f4281d56', ...),</div></div><div class=\"9d2891d1-e3a0-4a7f-8b53-c00df80a6886\" style=\"display: none;\"><div style=\"display: table-cell;\"></div><div style=\"display: table-cell;\">selection_glyph&nbsp;=&nbsp;None,</div></div><div class=\"9d2891d1-e3a0-4a7f-8b53-c00df80a6886\" style=\"display: none;\"><div style=\"display: table-cell;\"></div><div style=\"display: table-cell;\">subscribed_events&nbsp;=&nbsp;[],</div></div><div class=\"9d2891d1-e3a0-4a7f-8b53-c00df80a6886\" style=\"display: none;\"><div style=\"display: table-cell;\"></div><div style=\"display: table-cell;\">tags&nbsp;=&nbsp;[],</div></div><div class=\"9d2891d1-e3a0-4a7f-8b53-c00df80a6886\" style=\"display: none;\"><div style=\"display: table-cell;\"></div><div style=\"display: table-cell;\">view&nbsp;=&nbsp;CDSView(id='1254fab3-83ec-4896-b3f2-83a236addc2a', ...),</div></div><div class=\"9d2891d1-e3a0-4a7f-8b53-c00df80a6886\" style=\"display: none;\"><div style=\"display: table-cell;\"></div><div style=\"display: table-cell;\">visible&nbsp;=&nbsp;True,</div></div><div class=\"9d2891d1-e3a0-4a7f-8b53-c00df80a6886\" style=\"display: none;\"><div style=\"display: table-cell;\"></div><div style=\"display: table-cell;\">x_range_name&nbsp;=&nbsp;'default',</div></div><div class=\"9d2891d1-e3a0-4a7f-8b53-c00df80a6886\" style=\"display: none;\"><div style=\"display: table-cell;\"></div><div style=\"display: table-cell;\">y_range_name&nbsp;=&nbsp;'default')</div></div></div>\n",
       "<script>\n",
       "(function() {\n",
       "  var expanded = false;\n",
       "  var ellipsis = document.getElementById(\"13f0b061-262a-4c00-b455-bca8dd13b6e7\");\n",
       "  ellipsis.addEventListener(\"click\", function() {\n",
       "    var rows = document.getElementsByClassName(\"9d2891d1-e3a0-4a7f-8b53-c00df80a6886\");\n",
       "    for (var i = 0; i < rows.length; i++) {\n",
       "      var el = rows[i];\n",
       "      el.style.display = expanded ? \"none\" : \"table-row\";\n",
       "    }\n",
       "    ellipsis.innerHTML = expanded ? \"&hellip;)\" : \"&lsaquo;&lsaquo;&lsaquo;\";\n",
       "    expanded = !expanded;\n",
       "  });\n",
       "})();\n",
       "</script>\n"
      ],
      "text/plain": [
       "GlyphRenderer(id='265e4944-fe18-4e5d-838b-0cdc2715c70d', ...)"
      ]
     },
     "execution_count": 25,
     "metadata": {},
     "output_type": "execute_result"
    },
    {
     "name": "stdout",
     "output_type": "stream",
     "text": [
      "\n",
      "<script type=\"text/javascript\">\n",
      "    (function() {\n",
      "  var fn = function() {\n",
      "    Bokeh.safely(function() {\n",
      "      (function(root) {\n",
      "        function embed_document(root) {\n",
      "          var docs_json = {\"33350ee5-52ce-456e-afe2-14403e3ef87f\":{\"roots\":{\"references\":[{\"attributes\":{\"formatter\":{\"id\":\"712fc0c1-ec69-4889-908e-4ca3090759d5\",\"type\":\"BasicTickFormatter\"},\"plot\":{\"id\":\"be2f0644-f1d9-49d6-b2d0-7cc91ef1d606\",\"subtype\":\"Figure\",\"type\":\"Plot\"},\"ticker\":{\"id\":\"4ce38b2d-a2bd-43ae-9f7a-8d40a73b9c14\",\"type\":\"BasicTicker\"},\"visible\":false},\"id\":\"efe6fc58-ada6-4775-83db-b0a016961185\",\"type\":\"LinearAxis\"},{\"attributes\":{\"plot\":{\"id\":\"be2f0644-f1d9-49d6-b2d0-7cc91ef1d606\",\"subtype\":\"Figure\",\"type\":\"Plot\"},\"text\":\"Vulnerabilities by Vendor\",\"text_align\":\"center\",\"text_font_size\":{\"value\":\"14pt\"},\"text_font_style\":\"bold\",\"x\":5,\"y\":0},\"id\":\"dcac20a9-4eef-4ecd-acac-8512b373edaa\",\"type\":\"Label\"},{\"attributes\":{\"bottom\":{\"field\":\"bottom\"},\"fill_alpha\":{\"value\":0.1},\"fill_color\":{\"value\":\"#1f77b4\"},\"left\":{\"field\":\"x\"},\"line_alpha\":{\"value\":0.1},\"line_color\":{\"value\":\"#1f77b4\"},\"line_width\":{\"value\":2},\"right\":{\"field\":\"right\"},\"top\":{\"field\":\"y\"}},\"id\":\"e9520aef-2478-4dca-b03d-8b2e96de97dd\",\"type\":\"Quad\"},{\"attributes\":{},\"id\":\"712fc0c1-ec69-4889-908e-4ca3090759d5\",\"type\":\"BasicTickFormatter\"},{\"attributes\":{\"data_source\":{\"id\":\"9a51cbf7-462c-40b6-9dd6-78d1bec20285\",\"type\":\"ColumnDataSource\"},\"glyph\":{\"id\":\"3bf38378-04a2-4b52-becd-8c89fc1833ce\",\"type\":\"Quad\"},\"hover_glyph\":null,\"muted_glyph\":null,\"nonselection_glyph\":{\"id\":\"e9520aef-2478-4dca-b03d-8b2e96de97dd\",\"type\":\"Quad\"},\"selection_glyph\":null,\"view\":{\"id\":\"927f0ca5-a21c-4e32-b095-ef5f012b7918\",\"type\":\"CDSView\"}},\"id\":\"772d3d27-f866-4dc6-919b-c666a95b7b3e\",\"type\":\"GlyphRenderer\"},{\"attributes\":{\"callback\":null,\"column_names\":[\"Vendor\",\"x\",\"y\",\"index\"],\"data\":{\"Vendor\":[\"Apple\",\"Microsoft\",\"Oracle\"],\"index\":[0,1,2],\"x\":{\"__ndarray__\":\"AAAAAAAAAAAAAAAAAAAAAO8FtLOesCJA\",\"dtype\":\"float64\",\"shape\":[3]},\"y\":{\"__ndarray__\":\"AAAAAAAAAACOp3L5ZKgUwAAAAAAAAAAA\",\"dtype\":\"float64\",\"shape\":[3]}}},\"id\":\"5c5e472b-ec1f-47dd-a700-622f2b014b9a\",\"type\":\"ColumnDataSource\"},{\"attributes\":{\"source\":{\"id\":\"9a51cbf7-462c-40b6-9dd6-78d1bec20285\",\"type\":\"ColumnDataSource\"}},\"id\":\"927f0ca5-a21c-4e32-b095-ef5f012b7918\",\"type\":\"CDSView\"},{\"attributes\":{\"plot\":null,\"text\":\"\"},\"id\":\"e6d6c996-46a6-4c21-896d-3d3343accd2d\",\"type\":\"Title\"},{\"attributes\":{\"active_drag\":\"auto\",\"active_inspect\":\"auto\",\"active_scroll\":\"auto\",\"active_tap\":\"auto\",\"tools\":[{\"id\":\"d978c6f4-e543-4f00-9643-95bdf596e433\",\"type\":\"HoverTool\"}]},\"id\":\"7c09fb90-720b-4741-a97c-cec9674b2eb7\",\"type\":\"Toolbar\"},{\"attributes\":{},\"id\":\"5c92cbdf-2d87-4307-8f9f-f9e84db438a0\",\"type\":\"BasicTickFormatter\"},{\"attributes\":{\"callback\":null},\"id\":\"e96fe79b-2a65-42ae-aee4-fde1648a767d\",\"type\":\"DataRange1d\"},{\"attributes\":{\"callback\":null},\"id\":\"3c86dda6-f276-4dfa-a791-3a5b4c7b55dc\",\"type\":\"DataRange1d\"},{\"attributes\":{},\"id\":\"4ce38b2d-a2bd-43ae-9f7a-8d40a73b9c14\",\"type\":\"BasicTicker\"},{\"attributes\":{\"source\":{\"id\":\"5c5e472b-ec1f-47dd-a700-622f2b014b9a\",\"type\":\"ColumnDataSource\"}},\"id\":\"1254fab3-83ec-4896-b3f2-83a236addc2a\",\"type\":\"CDSView\"},{\"attributes\":{\"text\":{\"field\":\"Vendor\"},\"text_baseline\":\"middle\",\"text_color\":{\"value\":\"white\"},\"text_font_size\":{\"value\":\"10pt\"},\"x\":{\"field\":\"x\"},\"x_offset\":{\"value\":5},\"y\":{\"field\":\"y\"},\"y_offset\":{\"value\":10}},\"id\":\"a22b24d8-01d3-41e7-bef6-de9a2e829940\",\"type\":\"Text\"},{\"attributes\":{\"plot\":{\"id\":\"be2f0644-f1d9-49d6-b2d0-7cc91ef1d606\",\"subtype\":\"Figure\",\"type\":\"Plot\"},\"ticker\":{\"id\":\"4ce38b2d-a2bd-43ae-9f7a-8d40a73b9c14\",\"type\":\"BasicTicker\"},\"visible\":false},\"id\":\"38b05596-894f-4b7e-8301-4aa05995e33b\",\"type\":\"Grid\"},{\"attributes\":{\"dimension\":1,\"plot\":{\"id\":\"be2f0644-f1d9-49d6-b2d0-7cc91ef1d606\",\"subtype\":\"Figure\",\"type\":\"Plot\"},\"ticker\":{\"id\":\"0376205b-e9d2-461c-9c42-91fd94b41e3d\",\"type\":\"BasicTicker\"},\"visible\":false},\"id\":\"b823d57f-52d5-4396-aafc-e68882e19f1f\",\"type\":\"Grid\"},{\"attributes\":{\"text\":{\"field\":\"Vendor\"},\"text_alpha\":{\"value\":0.1},\"text_baseline\":\"middle\",\"text_color\":{\"value\":\"black\"},\"text_font_size\":{\"value\":\"10pt\"},\"x\":{\"field\":\"x\"},\"x_offset\":{\"value\":5},\"y\":{\"field\":\"y\"},\"y_offset\":{\"value\":10}},\"id\":\"c5128fa5-1154-4a1b-b3bc-2c76f4281d56\",\"type\":\"Text\"},{\"attributes\":{},\"id\":\"4cf56ae8-4989-44e1-a02d-964d28180dc9\",\"type\":\"LinearScale\"},{\"attributes\":{\"callback\":null,\"tooltips\":[[\"Vendor\",\"@Vendor\"],[\"Count\",\"@Count\"],[\"Vulnerability\",\"@Vul_Type\"]]},\"id\":\"d978c6f4-e543-4f00-9643-95bdf596e433\",\"type\":\"HoverTool\"},{\"attributes\":{\"bottom\":{\"field\":\"bottom\"},\"fill_color\":{\"field\":\"Color\"},\"left\":{\"field\":\"x\"},\"line_color\":{\"value\":\"white\"},\"line_width\":{\"value\":2},\"right\":{\"field\":\"right\"},\"top\":{\"field\":\"y\"}},\"id\":\"3bf38378-04a2-4b52-becd-8c89fc1833ce\",\"type\":\"Quad\"},{\"attributes\":{},\"id\":\"c1808574-e255-4143-ab8c-77b5a5b04618\",\"type\":\"LinearScale\"},{\"attributes\":{\"data_source\":{\"id\":\"5c5e472b-ec1f-47dd-a700-622f2b014b9a\",\"type\":\"ColumnDataSource\"},\"glyph\":{\"id\":\"a22b24d8-01d3-41e7-bef6-de9a2e829940\",\"type\":\"Text\"},\"hover_glyph\":null,\"muted_glyph\":null,\"nonselection_glyph\":{\"id\":\"c5128fa5-1154-4a1b-b3bc-2c76f4281d56\",\"type\":\"Text\"},\"selection_glyph\":null,\"view\":{\"id\":\"1254fab3-83ec-4896-b3f2-83a236addc2a\",\"type\":\"CDSView\"}},\"id\":\"265e4944-fe18-4e5d-838b-0cdc2715c70d\",\"type\":\"GlyphRenderer\"},{\"attributes\":{\"below\":[{\"id\":\"efe6fc58-ada6-4775-83db-b0a016961185\",\"type\":\"LinearAxis\"}],\"left\":[{\"id\":\"5f3ea05e-a62e-4622-addc-e3213376e760\",\"type\":\"LinearAxis\"}],\"min_border\":0,\"outline_line_color\":{\"value\":null},\"plot_width\":900,\"renderers\":[{\"id\":\"efe6fc58-ada6-4775-83db-b0a016961185\",\"type\":\"LinearAxis\"},{\"id\":\"38b05596-894f-4b7e-8301-4aa05995e33b\",\"type\":\"Grid\"},{\"id\":\"5f3ea05e-a62e-4622-addc-e3213376e760\",\"type\":\"LinearAxis\"},{\"id\":\"b823d57f-52d5-4396-aafc-e68882e19f1f\",\"type\":\"Grid\"},{\"id\":\"772d3d27-f866-4dc6-919b-c666a95b7b3e\",\"type\":\"GlyphRenderer\"},{\"id\":\"265e4944-fe18-4e5d-838b-0cdc2715c70d\",\"type\":\"GlyphRenderer\"},{\"id\":\"dcac20a9-4eef-4ecd-acac-8512b373edaa\",\"type\":\"Label\"}],\"title\":{\"id\":\"e6d6c996-46a6-4c21-896d-3d3343accd2d\",\"type\":\"Title\"},\"toolbar\":{\"id\":\"7c09fb90-720b-4741-a97c-cec9674b2eb7\",\"type\":\"Toolbar\"},\"toolbar_location\":null,\"x_range\":{\"id\":\"3c86dda6-f276-4dfa-a791-3a5b4c7b55dc\",\"type\":\"DataRange1d\"},\"x_scale\":{\"id\":\"c1808574-e255-4143-ab8c-77b5a5b04618\",\"type\":\"LinearScale\"},\"y_range\":{\"id\":\"e96fe79b-2a65-42ae-aee4-fde1648a767d\",\"type\":\"DataRange1d\"},\"y_scale\":{\"id\":\"4cf56ae8-4989-44e1-a02d-964d28180dc9\",\"type\":\"LinearScale\"}},\"id\":\"be2f0644-f1d9-49d6-b2d0-7cc91ef1d606\",\"subtype\":\"Figure\",\"type\":\"Plot\"},{\"attributes\":{},\"id\":\"0376205b-e9d2-461c-9c42-91fd94b41e3d\",\"type\":\"BasicTicker\"},{\"attributes\":{\"callback\":null,\"column_names\":[\"Vendor\",\"Vul_Type\",\"Count\",\"dx\",\"dy\",\"x\",\"y\",\"bottom\",\"right\",\"Color\",\"index\"],\"data\":{\"Color\":[\"#33a02c\",\"#33a02c\",\"#33a02c\",\"#33a02c\",\"#33a02c\",\"#33a02c\",\"#33a02c\",\"#33a02c\",\"#33a02c\",\"#33a02c\",\"#33a02c\",\"#33a02c\",\"#1f78b4\",\"#1f78b4\",\"#1f78b4\",\"#1f78b4\",\"#1f78b4\",\"#1f78b4\",\"#1f78b4\",\"#1f78b4\",\"#1f78b4\",\"#1f78b4\",\"#1f78b4\",\"#1f78b4\",\"#e31a1c\",\"#e31a1c\",\"#e31a1c\",\"#e31a1c\",\"#e31a1c\",\"#e31a1c\",\"#e31a1c\",\"#e31a1c\",\"#e31a1c\",\"#e31a1c\",\"#e31a1c\",\"#e31a1c\"],\"Count\":[1,2050,1995,1210,471,1540,198,111,26,4,346,2,369,2,3,4,21,209,486,1286,1463,1495,2567,590,204,184,133,77,68,45,33,29,3,2,47,328],\"Vendor\":[\"Apple\",\"Apple\",\"Apple\",\"Apple\",\"Apple\",\"Apple\",\"Apple\",\"Apple\",\"Apple\",\"Apple\",\"Apple\",\"Apple\",\"Microsoft\",\"Microsoft\",\"Microsoft\",\"Microsoft\",\"Microsoft\",\"Microsoft\",\"Microsoft\",\"Microsoft\",\"Microsoft\",\"Microsoft\",\"Microsoft\",\"Microsoft\",\"Oracle\",\"Oracle\",\"Oracle\",\"Oracle\",\"Oracle\",\"Oracle\",\"Oracle\",\"Oracle\",\"Oracle\",\"Oracle\",\"Oracle\",\"Oracle\"],\"Vul_Type\":[\"Sql Injection\",\"Denial of Service\",\"Execute Code\",\"Memory Corruption\",\"Gain Information\",\"Overflow\",\"Gain Privilege\",\"XSS\",\"Directory Traversal\",\"CSRF\",\"Bypass Something\",\"Http Response Splitting\",\"Bypass Something\",\"Http Response Splitting\",\"CSRF\",\"Sql Injection\",\"Directory Traversal\",\"XSS\",\"Gain Information\",\"Memory Corruption\",\"Denial of Service\",\"Overflow\",\"Execute Code\",\"Gain Privilege\",\"Execute Code\",\"Overflow\",\"Gain Information\",\"Bypass Something\",\"Sql Injection\",\"XSS\",\"Memory Corruption\",\"Directory Traversal\",\"Http Response Splitting\",\"CSRF\",\"Gain Privilege\",\"Denial of Service\"],\"bottom\":{\"__ndarray__\":\"jqdy+WSoFMAXQTsITfAEwI6ncvlkqBTAjqdy+WSoFMCHgXX+CywDwC6ninMAIwfAjqdy+WSoFMBQwpAA8dgPwL4U/ddRpxPAEERANDg6FMAGfKtJxKAQwLnbYWKrgxTALB4Sfa4ZIsD///////8jwHPjlEzyWiPAoTh0v11jIsCI/51YQhkhwAAAAAAAACTArbBAwR9+HcA2V4jXXPUgwAAAAAAAACTASh9PEvtuHsAAAAAAAAAkwAAAAAAAACTAitqVqF2JEsAYWgXGnvIYwLrQKjD2lB3AtAqMPeUhIMBRuxK1K1EhwDSbbvx76yLANbwzeql+I8AAAAAAAAAkwP///////xfAAAAAAAAAJMCQ4r6WySIiwLdt27Zt2wbA\",\"dtype\":\"float64\",\"shape\":[36]},\"dx\":{\"__ndarray__\":\"kxrePsKnxT9TomjKbQITQFOiaMptAhNAuMOXSubYCUBqW/KWeRTzP7jDl0rm2AlAalvylnkU8z+TGt4+wqfFP5Ma3j7Cp8U/kxrePsKnxT9qW/KWeRTzP5Ma3j7Cp8U/BQmG3jG68j8BcgXcluWgPwFyBdyW5aA/AXIF3JbloD8BcgXcluWgPwUJht4xuvI/BQmG3jG68j8PUqURdoIAQKNj+GocCApAo2P4ahwICkDBR38HOZcGQA9SpRF2ggBAj7iXoM/e5D+PuJegz97kP4+4l6DP3uQ/j7iXoM/e5D+PuJegz97kP4+4l6DP3uQ/j7iXoM/e5D+PuJegz97kP0p/6CckRWc/Sn/oJyRFZz+PuJegz97kP4+4l6DP3uQ/\",\"dtype\":\"float64\",\"shape\":[36]},\"dy\":{\"__ndarray__\":\"RepliMtcor8XQTsITfAEwAUOqup8YATA7adaf8ktAsCHgXX+CywDwC6ninMAIwfAH64cv4Ie8L9QwpAA8dgPwLCcpb3K1u2/RepliMtcwr8K7cIp+Sr8v0XqZYjLXLK/qy6O4/TU+r+LkWNttqHUv09aFaSR8t6/i5Fjbbah5L8Gr5JvPxQLwEYd3i4YZe6/PhKcj3WrAcC6DTxrqYQKwGzBYdsJIgPAeO+4MSyNA8ByWI0Gm1cTwFNGvUMZVfi/uY6gNJtu/L84/r11BKX5v4ralahdifK/eCVqV6J25b/QCWt4Z/Tiv4UU97VMFtm/HiCkuK9l0r9QeYi50CrQv////////xfAAAAAAAAAEMDr54Q1vDPav7dt27Zt2wbA\",\"dtype\":\"float64\",\"shape\":[36]},\"index\":[35,24,25,27,28,26,30,31,32,33,29,34,18,23,22,21,20,19,17,15,14,13,12,16,1,2,3,4,5,7,8,9,10,11,6,0],\"right\":{\"__ndarray__\":\"7wW0s56wIkBTomjKbQITQFOiaMptAhNAL4S07+DuH0CFjbiq/1kiQC+EtO/g7h9AhY24qv9ZIkDvBbSznrAiQO8FtLOesCJA7wW0s56wIkCFjbiq/1kiQO8FtLOesCJAfgDYHLmfIkDwBbSznrAiQPAFtLOesCJA8AW0s56wIkDwBbSznrAiQH4A2By5nyJAfgDYHLmfIkBdPwfhckggQLLVO7mqTxhAstU7uapPGEDBR38HOZcGQF0/B+FySCBAeIG9rYv+I0B4gb2ti/4jQHiBva2L/iNAeIG9rYv+I0B4gb2ti/4jQHiBva2L/iNAeIG9rYv+I0B4gb2ti/4jQAAAAAAAACRAAAAAAAAAJEB4gb2ti/4jQHiBva2L/iNA\",\"dtype\":\"float64\",\"shape\":[36]},\"x\":{\"__ndarray__\":\"hY24qv9ZIkAAAAAAAAAAAAAAAAAAAAAAU6Joym0CE0AvhLTv4O4fQFOiaMptAhNAL4S07+DuH0CFjbiq/1kiQIWNuKr/WSJAhY24qv9ZIkAvhLTv4O4fQIWNuKr/WSJAXT8H4XJIIEB+ANgcuZ8iQH4A2By5nyJAfgDYHLmfIkB+ANgcuZ8iQF0/B+FySCBAXT8H4XJIIECy1Tu5qk8YQMFHfwc5lwZAwUd/BzmXBkAAAAAAAAAAALLVO7mqTxhA7wW0s56wIkDvBbSznrAiQO8FtLOesCJA7wW0s56wIkDvBbSznrAiQO8FtLOesCJA7wW0s56wIkDvBbSznrAiQHiBva2L/iNAeIG9rYv+I0DvBbSznrAiQO8FtLOesCJA\",\"dtype\":\"float64\",\"shape\":[36]},\"y\":{\"__ndarray__\":\"udthYquDFMAAAAAAAAAAABdBOwhN8ATALqeKcwAjB8AAAAAAAAAAAAAAAAAAAAAABnyrScSgEMAAAAAAAAAAAFDCkADx2A/AvhT911GnE8CHgXX+CywDwBBEQDQ4OhTArbBAwR9+HcBz45RM8lojwKE4dL9dYyLAiP+dWEIZIcCOp3L5ZKgUwCweEn2uGSLAjqdy+WSoFMCOp3L5ZKgUwEofTxL7bh7Ajqdy+WSoFMCOp3L5ZKgUwDZXiNdc9SDAt23btm3bBsCK2pWoXYkSwBhaBcae8hjAutAqMPaUHcC0Cow95SEgwJDivpbJIiLANJtu/HvrIsA1vDN6qX4jwAAAAAAAAAAA////////F8BRuxK1K1EhwAAAAAAAAAAA\",\"dtype\":\"float64\",\"shape\":[36]}}},\"id\":\"9a51cbf7-462c-40b6-9dd6-78d1bec20285\",\"type\":\"ColumnDataSource\"},{\"attributes\":{\"formatter\":{\"id\":\"5c92cbdf-2d87-4307-8f9f-f9e84db438a0\",\"type\":\"BasicTickFormatter\"},\"plot\":{\"id\":\"be2f0644-f1d9-49d6-b2d0-7cc91ef1d606\",\"subtype\":\"Figure\",\"type\":\"Plot\"},\"ticker\":{\"id\":\"0376205b-e9d2-461c-9c42-91fd94b41e3d\",\"type\":\"BasicTicker\"},\"visible\":false},\"id\":\"5f3ea05e-a62e-4622-addc-e3213376e760\",\"type\":\"LinearAxis\"}],\"root_ids\":[\"be2f0644-f1d9-49d6-b2d0-7cc91ef1d606\"]},\"title\":\"Bokeh Application\",\"version\":\"0.12.10\"}};\n",
      "          var render_items = [{\"docid\":\"33350ee5-52ce-456e-afe2-14403e3ef87f\",\"elementid\":\"0d6a1afc-42a8-4915-9e18-60a365039951\",\"modelid\":\"be2f0644-f1d9-49d6-b2d0-7cc91ef1d606\"}];\n",
      "      \n",
      "          root.Bokeh.embed.embed_items(docs_json, render_items);\n",
      "        }\n",
      "      \n",
      "        if (root.Bokeh !== undefined) {\n",
      "          embed_document(root);\n",
      "        } else {\n",
      "          var attempts = 0;\n",
      "          var timer = setInterval(function(root) {\n",
      "            if (root.Bokeh !== undefined) {\n",
      "              embed_document(root);\n",
      "              clearInterval(timer);\n",
      "            }\n",
      "            attempts++;\n",
      "            if (attempts > 100) {\n",
      "              console.log(\"Bokeh: ERROR: Unable to embed document because BokehJS library is missing\")\n",
      "              clearInterval(timer);\n",
      "            }\n",
      "          }, 10, root)\n",
      "        }\n",
      "      })(window);\n",
      "    });\n",
      "  };\n",
      "  if (document.readyState != \"loading\") fn();\n",
      "  else document.addEventListener(\"DOMContentLoaded\", fn);\n",
      "})();\n",
      "\n",
      "</script>\n",
      "\n",
      "<div class=\"bk-root\">\n",
      "    <div class=\"bk-plotdiv\" id=\"0d6a1afc-42a8-4915-9e18-60a365039951\"></div>\n",
      "</div>\n"
     ]
    }
   ],
   "source": [
    "source = ColumnDataSource(data = sq)\n",
    "hover = HoverTool(tooltips=[\n",
    "    (\"Vendor\", \"@Vendor\"),\n",
    "    (\"Count\", \"@Count\"),\n",
    "    ('Vulnerability','@Vul_Type')\n",
    "])\n",
    "\n",
    "\n",
    "p = figure(tools = [hover], toolbar_location = None, plot_width = 900)\n",
    "    \n",
    "p.quad(bottom = 'bottom',\n",
    "       right = 'right',\n",
    "       top = 'y', \n",
    "       left = 'x', \n",
    "       color = 'Color',\n",
    "       line_color = 'white', \n",
    "       line_width = 2,\n",
    "       source = source)\n",
    "\n",
    "text_source = ColumnDataSource(data = sq.groupby('Vendor').agg({'x':min, 'y':max}).reset_index())\n",
    "\n",
    "p.text(x = 'x', y = 'y', \n",
    "       x_offset = 5, y_offset = 10,\n",
    "       text_font_size = '10pt',text_color = 'white',\n",
    "       text_align = 'left', text_baseline = 'middle',\n",
    "       text='Vendor', source = text_source)\n",
    "\n",
    "\n",
    "title = Label(x = 5, y = 0, text = 'Vulnerabilities by Vendor', \n",
    "             text_align = 'center', text_font_size = '14pt', \n",
    "             text_font_style = 'bold')\n",
    "p.add_layout(title)\n",
    "p.grid.visible = False\n",
    "p.axis.visible = False\n",
    "p.min_border = 0\n",
    "p.outline_line_color = None\n",
    "show(p);\n",
    "script, div = components(p)\n",
    "print(script)\n",
    "print(div)"
   ]
  },
  {
   "cell_type": "code",
   "execution_count": null,
   "metadata": {
    "collapsed": true
   },
   "outputs": [],
   "source": []
  }
 ],
 "metadata": {
  "kernelspec": {
   "display_name": "Python 3",
   "language": "python",
   "name": "python3"
  },
  "language_info": {
   "codemirror_mode": {
    "name": "ipython",
    "version": 3
   },
   "file_extension": ".py",
   "mimetype": "text/x-python",
   "name": "python",
   "nbconvert_exporter": "python",
   "pygments_lexer": "ipython3",
   "version": "3.6.4"
  }
 },
 "nbformat": 4,
 "nbformat_minor": 2
}
